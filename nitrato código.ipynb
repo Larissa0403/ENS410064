{
 "cells": [
  {
   "cell_type": "code",
   "execution_count": 1,
   "id": "bd10e4cc-213f-4b80-94ee-ab5fa9aa194a",
   "metadata": {
    "scrolled": true
   },
   "outputs": [
    {
     "data": {
      "text/html": [
       "<div>\n",
       "<style scoped>\n",
       "    .dataframe tbody tr th:only-of-type {\n",
       "        vertical-align: middle;\n",
       "    }\n",
       "\n",
       "    .dataframe tbody tr th {\n",
       "        vertical-align: top;\n",
       "    }\n",
       "\n",
       "    .dataframe thead th {\n",
       "        text-align: right;\n",
       "    }\n",
       "</style>\n",
       "<table border=\"1\" class=\"dataframe\">\n",
       "  <thead>\n",
       "    <tr style=\"text-align: right;\">\n",
       "      <th></th>\n",
       "      <th>date</th>\n",
       "      <th>NO3-N_ugL_YRZ</th>\n",
       "      <th>NO3-N_ugL_YHZ</th>\n",
       "    </tr>\n",
       "  </thead>\n",
       "  <tbody>\n",
       "    <tr>\n",
       "      <th>0</th>\n",
       "      <td>2011/9/7</td>\n",
       "      <td>28.818</td>\n",
       "      <td>NaN</td>\n",
       "    </tr>\n",
       "    <tr>\n",
       "      <th>1</th>\n",
       "      <td>2011/9/8</td>\n",
       "      <td>26.125</td>\n",
       "      <td>NaN</td>\n",
       "    </tr>\n",
       "    <tr>\n",
       "      <th>2</th>\n",
       "      <td>2011/9/9</td>\n",
       "      <td>282.926</td>\n",
       "      <td>NaN</td>\n",
       "    </tr>\n",
       "    <tr>\n",
       "      <th>3</th>\n",
       "      <td>2011/9/10</td>\n",
       "      <td>268.334</td>\n",
       "      <td>NaN</td>\n",
       "    </tr>\n",
       "    <tr>\n",
       "      <th>4</th>\n",
       "      <td>2011/9/11</td>\n",
       "      <td>301.786</td>\n",
       "      <td>NaN</td>\n",
       "    </tr>\n",
       "    <tr>\n",
       "      <th>...</th>\n",
       "      <td>...</td>\n",
       "      <td>...</td>\n",
       "      <td>...</td>\n",
       "    </tr>\n",
       "    <tr>\n",
       "      <th>3033</th>\n",
       "      <td>2019/12/27</td>\n",
       "      <td>1283.315</td>\n",
       "      <td>NaN</td>\n",
       "    </tr>\n",
       "    <tr>\n",
       "      <th>3034</th>\n",
       "      <td>2019/12/28</td>\n",
       "      <td>1284.405</td>\n",
       "      <td>NaN</td>\n",
       "    </tr>\n",
       "    <tr>\n",
       "      <th>3035</th>\n",
       "      <td>2019/12/29</td>\n",
       "      <td>1284.323</td>\n",
       "      <td>NaN</td>\n",
       "    </tr>\n",
       "    <tr>\n",
       "      <th>3036</th>\n",
       "      <td>2019/12/30</td>\n",
       "      <td>1252.285</td>\n",
       "      <td>NaN</td>\n",
       "    </tr>\n",
       "    <tr>\n",
       "      <th>3037</th>\n",
       "      <td>2019/12/31</td>\n",
       "      <td>1222.104</td>\n",
       "      <td>NaN</td>\n",
       "    </tr>\n",
       "  </tbody>\n",
       "</table>\n",
       "<p>3038 rows × 3 columns</p>\n",
       "</div>"
      ],
      "text/plain": [
       "            date  NO3-N_ugL_YRZ  NO3-N_ugL_YHZ\n",
       "0       2011/9/7         28.818            NaN\n",
       "1       2011/9/8         26.125            NaN\n",
       "2       2011/9/9        282.926            NaN\n",
       "3      2011/9/10        268.334            NaN\n",
       "4      2011/9/11        301.786            NaN\n",
       "...          ...            ...            ...\n",
       "3033  2019/12/27       1283.315            NaN\n",
       "3034  2019/12/28       1284.405            NaN\n",
       "3035  2019/12/29       1284.323            NaN\n",
       "3036  2019/12/30       1252.285            NaN\n",
       "3037  2019/12/31       1222.104            NaN\n",
       "\n",
       "[3038 rows x 3 columns]"
      ]
     },
     "execution_count": 1,
     "metadata": {},
     "output_type": "execute_result"
    }
   ],
   "source": [
    "import pandas as pd\n",
    "\n",
    "df = pd.read_csv(r'C:\\Users\\lariw\\Documents\\ENS410064\\dados nitrato.csv')\n",
    "df"
   ]
  },
  {
   "cell_type": "code",
   "execution_count": 4,
   "id": "cf6c4076-6d85-4fc4-815d-62842e007ab4",
   "metadata": {},
   "outputs": [
    {
     "name": "stdout",
     "output_type": "stream",
     "text": [
      "        date  NO3-N_ugL_YRZ  NO3-N_ugL_YHZ\n",
      "0   2011/9/7         28.818            NaN\n",
      "1   2011/9/8         26.125            NaN\n",
      "2   2011/9/9        282.926            NaN\n",
      "3  2011/9/10        268.334            NaN\n",
      "4  2011/9/11        301.786            NaN\n"
     ]
    }
   ],
   "source": [
    "# Mostrando primeiras linhas das colunas\n",
    "print(df.head())"
   ]
  },
  {
   "cell_type": "code",
   "execution_count": 5,
   "id": "f2156115-9eb8-4957-8ce0-fd252102420b",
   "metadata": {},
   "outputs": [
    {
     "name": "stdout",
     "output_type": "stream",
     "text": [
      "<class 'pandas.core.frame.DataFrame'>\n",
      "RangeIndex: 3038 entries, 0 to 3037\n",
      "Data columns (total 3 columns):\n",
      " #   Column         Non-Null Count  Dtype  \n",
      "---  ------         --------------  -----  \n",
      " 0   date           3038 non-null   object \n",
      " 1   NO3-N_ugL_YRZ  2368 non-null   float64\n",
      " 2   NO3-N_ugL_YHZ  2131 non-null   float64\n",
      "dtypes: float64(2), object(1)\n",
      "memory usage: 71.3+ KB\n",
      "None\n"
     ]
    }
   ],
   "source": [
    "print(df.info())"
   ]
  },
  {
   "cell_type": "code",
   "execution_count": 6,
   "id": "500b918e-1be7-4eec-af4d-3e422f464234",
   "metadata": {},
   "outputs": [
    {
     "name": "stdout",
     "output_type": "stream",
     "text": [
      "       NO3-N_ugL_YRZ  NO3-N_ugL_YHZ\n",
      "count    2368.000000     2131.00000\n",
      "mean      706.226719     2113.26582\n",
      "std       544.534909     1431.33319\n",
      "min         5.355000        0.17600\n",
      "25%       374.077750      808.08750\n",
      "50%       596.708000     1804.22900\n",
      "75%       960.710000     3256.17900\n",
      "max      7630.067000     5862.82000\n"
     ]
    }
   ],
   "source": [
    "print(df.describe())"
   ]
  },
  {
   "cell_type": "code",
   "execution_count": 4,
   "id": "eecb3d71-0e38-4d49-98d8-9cc4784562aa",
   "metadata": {},
   "outputs": [
    {
     "data": {
      "text/plain": [
       "0         2011-9-7\n",
       "1         2011-9-8\n",
       "2         2011-9-9\n",
       "3        2011-9-10\n",
       "4        2011-9-11\n",
       "           ...    \n",
       "3033    2019-12-27\n",
       "3034    2019-12-28\n",
       "3035    2019-12-29\n",
       "3036    2019-12-30\n",
       "3037    2019-12-31\n",
       "Name: date, Length: 3038, dtype: object"
      ]
     },
     "execution_count": 4,
     "metadata": {},
     "output_type": "execute_result"
    }
   ],
   "source": [
    "df['date'] = df['date'].apply(lambda x: str(x).replace(\"/\",\"-\"))\n",
    "df['date']"
   ]
  },
  {
   "cell_type": "code",
   "execution_count": 3,
   "id": "3bce7c65-62b7-42ad-9677-c0f084881466",
   "metadata": {},
   "outputs": [
    {
     "data": {
      "text/plain": [
       "0         2011-9-7\n",
       "1         2011-9-8\n",
       "2         2011-9-9\n",
       "3        2011-9-10\n",
       "4        2011-9-11\n",
       "           ...    \n",
       "3033    2019-12-27\n",
       "3034    2019-12-28\n",
       "3035    2019-12-29\n",
       "3036    2019-12-30\n",
       "3037    2019-12-31\n",
       "Name: date, Length: 3038, dtype: object"
      ]
     },
     "execution_count": 3,
     "metadata": {},
     "output_type": "execute_result"
    }
   ],
   "source": [
    "df['date'] = df['date'].apply(lambda x: str(x).replace(\"/\",\"-\"))\n",
    "df['date']"
   ]
  },
  {
   "cell_type": "code",
   "execution_count": 5,
   "id": "df42ddb3-696c-4858-9dc7-99d143289783",
   "metadata": {},
   "outputs": [],
   "source": [
    "tstamp = pd.to_datetime(df['date'])"
   ]
  },
  {
   "cell_type": "code",
   "execution_count": 7,
   "id": "4ce0089a-821c-49b6-9e5d-1aca5744ec2e",
   "metadata": {},
   "outputs": [
    {
     "data": {
      "text/plain": [
       "<Axes: >"
      ]
     },
     "execution_count": 7,
     "metadata": {},
     "output_type": "execute_result"
    },
    {
     "data": {
      "image/png": "[encoded data removed]",
      "text/plain": [
       "<Figure size 640x480 with 1 Axes>"
      ]
     },
     "metadata": {},
     "output_type": "display_data"
    }
   ],
   "source": [
    "df['NO3-N_ugL_YRZ'].plot()\n"
   ]
  },
  {
   "cell_type": "code",
   "execution_count": null,
   "id": "3e092e1f-1445-423f-8842-fee4c58223f2",
   "metadata": {},
   "outputs": [],
   "source": []
  }
 ],
 "metadata": {
  "kernelspec": {
   "display_name": "Python 3 (ipykernel)",
   "language": "python",
   "name": "python3"
  },
  "language_info": {
   "codemirror_mode": {
    "name": "ipython",
    "version": 3
   },
   "file_extension": ".py",
   "mimetype": "text/x-python",
   "name": "python",
   "nbconvert_exporter": "python",
   "pygments_lexer": "ipython3",
   "version": "3.11.5"
  }
 },
 "nbformat": 4,
 "nbformat_minor": 5
}
