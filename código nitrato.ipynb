{
 "cells": [
  {
   "cell_type": "code",
   "execution_count": 2,
   "id": "9bd7966c-937d-45e8-8c98-d0ad9a3897a2",
   "metadata": {},
   "outputs": [],
   "source": [
    "import pandas as pd\n",
    "import matplotlib.pyplot as plt\n"
   ]
  },
  {
   "cell_type": "code",
   "execution_count": 5,
   "id": "ea4d2eda-df5a-40b3-a081-017b7e66aed2",
   "metadata": {},
   "outputs": [],
   "source": [
    "df = pd.read_csv(r'C:\\Users\\lariw\\Documents\\ENS410064\\dados nitrato.csv')"
   ]
  },
  {
   "cell_type": "code",
   "execution_count": 6,
   "id": "61ea7124-53b1-48f5-8dc8-ac8b032fc616",
   "metadata": {},
   "outputs": [],
   "source": [
    "parametro = df['NO3-N_ugL_YRZ']"
   ]
  },
  {
   "cell_type": "code",
   "execution_count": 7,
   "id": "3e6216ca-37b9-4455-a34a-504a309ba6db",
   "metadata": {},
   "outputs": [
    {
     "ename": "NameError",
     "evalue": "name 'plt' is not defined",
     "output_type": "error",
     "traceback": [
      "\u001b[1;31m---------------------------------------------------------------------------\u001b[0m",
      "\u001b[1;31mNameError\u001b[0m                                 Traceback (most recent call last)",
      "Cell \u001b[1;32mIn[7], line 1\u001b[0m\n\u001b[1;32m----> 1\u001b[0m \u001b[43mplt\u001b[49m\u001b[38;5;241m.\u001b[39mfigure(figsize\u001b[38;5;241m=\u001b[39m(\u001b[38;5;241m10\u001b[39m, \u001b[38;5;241m6\u001b[39m))  \u001b[38;5;66;03m# Define o tamanho da figura (opcional)\u001b[39;00m\n\u001b[0;32m      3\u001b[0m plt\u001b[38;5;241m.\u001b[39mplot(parametro, marker\u001b[38;5;241m=\u001b[39m\u001b[38;5;124m'\u001b[39m\u001b[38;5;124mo\u001b[39m\u001b[38;5;124m'\u001b[39m, linestyle\u001b[38;5;241m=\u001b[39m\u001b[38;5;124m'\u001b[39m\u001b[38;5;124m-\u001b[39m\u001b[38;5;124m'\u001b[39m)\n\u001b[0;32m      5\u001b[0m plt\u001b[38;5;241m.\u001b[39mtitle(\u001b[38;5;124m'\u001b[39m\u001b[38;5;124mAnálise do Parâmetro ao Longo do Tempo\u001b[39m\u001b[38;5;124m'\u001b[39m)  \u001b[38;5;66;03m# Título do gráfico\u001b[39;00m\n",
      "\u001b[1;31mNameError\u001b[0m: name 'plt' is not defined"
     ]
    }
   ],
   "source": [
    "plt.figure(figsize=(10, 6))  # Define o tamanho da figura (opcional)\n",
    "\n",
    "plt.plot(parametro, marker='o', linestyle='-')\n",
    "\n",
    "plt.title('Análise do Parâmetro ao Longo do Tempo')  # Título do gráfico\n",
    "plt.xlabel('Tempo')  # Rótulo do eixo x\n",
    "plt.ylabel('Valor do Parâmetro')  # Rótulo do eixo y\n",
    "\n",
    "plt.grid(True)  # Adiciona uma grade (opcional)\n",
    "plt.legend(['Parâmetro'])  # Adiciona uma legenda (opcional)\n",
    "\n",
    "plt.show()  # Exibe o gráfico"
   ]
  },
  {
   "cell_type": "code",
   "execution_count": null,
   "id": "b233f144-2261-4b1e-ad93-a4142f8e6753",
   "metadata": {},
   "outputs": [],
   "source": []
  }
 ],
 "metadata": {
  "kernelspec": {
   "display_name": "Python 3 (ipykernel)",
   "language": "python",
   "name": "python3"
  },
  "language_info": {
   "codemirror_mode": {
    "name": "ipython",
    "version": 3
   },
   "file_extension": ".py",
   "mimetype": "text/x-python",
   "name": "python",
   "nbconvert_exporter": "python",
   "pygments_lexer": "ipython3",
   "version": "3.11.5"
  }
 },
 "nbformat": 4,
 "nbformat_minor": 5
}
