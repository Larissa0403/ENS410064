{
 "cells": [
  {
   "cell_type": "code",
   "execution_count": 1,
   "id": "99f728e7-f8a4-402d-b8d4-b4686ddc7a75",
   "metadata": {},
   "outputs": [],
   "source": [
    "import pandas as pd\n",
    "\n",
    "df = pd.read_csv(r'C:\\Users\\lariw\\Documents\\ENS410064\\dados nitrato.csv')"
   ]
  },
  {
   "cell_type": "code",
   "execution_count": 2,
   "id": "aa2638a7-1a50-4133-8f0b-5179c69db16d",
   "metadata": {},
   "outputs": [
    {
     "name": "stdout",
     "output_type": "stream",
     "text": [
      "        date  NO3-N_ugL_YRZ  NO3-N_ugL_YHZ\n",
      "0   2011/9/7         28.818            NaN\n",
      "1   2011/9/8         26.125            NaN\n",
      "2   2011/9/9        282.926            NaN\n",
      "3  2011/9/10        268.334            NaN\n",
      "4  2011/9/11        301.786            NaN\n"
     ]
    }
   ],
   "source": [
    "print(df.head())"
   ]
  },
  {
   "cell_type": "code",
   "execution_count": 3,
   "id": "23fdc623-e629-47dc-94dd-62750a30eac0",
   "metadata": {},
   "outputs": [
    {
     "name": "stdout",
     "output_type": "stream",
     "text": [
      "<class 'pandas.core.frame.DataFrame'>\n",
      "RangeIndex: 3038 entries, 0 to 3037\n",
      "Data columns (total 3 columns):\n",
      " #   Column         Non-Null Count  Dtype  \n",
      "---  ------         --------------  -----  \n",
      " 0   date           3038 non-null   object \n",
      " 1   NO3-N_ugL_YRZ  2368 non-null   float64\n",
      " 2   NO3-N_ugL_YHZ  2131 non-null   float64\n",
      "dtypes: float64(2), object(1)\n",
      "memory usage: 71.3+ KB\n",
      "None\n"
     ]
    }
   ],
   "source": [
    "print(df.info())"
   ]
  },
  {
   "cell_type": "code",
   "execution_count": 4,
   "id": "f126a3cf-282d-4938-bb7a-e9c9adb3893a",
   "metadata": {},
   "outputs": [
    {
     "name": "stdout",
     "output_type": "stream",
     "text": [
      "       NO3-N_ugL_YRZ  NO3-N_ugL_YHZ\n",
      "count    2368.000000     2131.00000\n",
      "mean      706.226719     2113.26582\n",
      "std       544.534909     1431.33319\n",
      "min         5.355000        0.17600\n",
      "25%       374.077750      808.08750\n",
      "50%       596.708000     1804.22900\n",
      "75%       960.710000     3256.17900\n",
      "max      7630.067000     5862.82000\n"
     ]
    }
   ],
   "source": [
    "print(df.describe())"
   ]
  },
  {
   "cell_type": "code",
   "execution_count": 5,
   "id": "8abf9ab7-58b5-4fae-86b3-ab81fb61f1ce",
   "metadata": {},
   "outputs": [],
   "source": [
    "coluna = df['NO3-N_ugL_YRZ']"
   ]
  },
  {
   "cell_type": "code",
   "execution_count": 6,
   "id": "7b665fdb-01bd-470a-8a96-5300ba7e70ed",
   "metadata": {},
   "outputs": [],
   "source": [
    "filtro = df[df['NO3-N_ugL_YRZ'] > 300.000]"
   ]
  },
  {
   "cell_type": "code",
   "execution_count": 17,
   "id": "e7503051-1bf3-4b10-9fa2-09ce1adbbfaf",
   "metadata": {},
   "outputs": [
    {
     "ename": "NameError",
     "evalue": "name 'NO3' is not defined",
     "output_type": "error",
     "traceback": [
      "\u001b[1;31m---------------------------------------------------------------------------\u001b[0m",
      "\u001b[1;31mNameError\u001b[0m                                 Traceback (most recent call last)",
      "Cell \u001b[1;32mIn[17], line 3\u001b[0m\n\u001b[0;32m      1\u001b[0m \u001b[38;5;28;01mimport\u001b[39;00m \u001b[38;5;21;01mnumpy\u001b[39;00m \u001b[38;5;28;01mas\u001b[39;00m \u001b[38;5;21;01mnp\u001b[39;00m\n\u001b[0;32m      2\u001b[0m \u001b[38;5;28;01mimport\u001b[39;00m \u001b[38;5;21;01mmatplotlib\u001b[39;00m\u001b[38;5;21;01m.\u001b[39;00m\u001b[38;5;21;01mpyplot\u001b[39;00m \u001b[38;5;28;01mas\u001b[39;00m \u001b[38;5;21;01mplt\u001b[39;00m\n\u001b[1;32m----> 3\u001b[0m date \u001b[38;5;241m=\u001b[39m \u001b[43mNO3\u001b[49m\u001b[38;5;241m-\u001b[39mN_ugL_YRZ\n\u001b[0;32m      5\u001b[0m fig, ax \u001b[38;5;241m=\u001b[39m plt\u001b[38;5;241m.\u001b[39msubplots(\u001b[38;5;241m3\u001b[39m)\n\u001b[0;32m      6\u001b[0m ax[\u001b[38;5;241m0\u001b[39m]\u001b[38;5;241m.\u001b[39mplot(date)\n",
      "\u001b[1;31mNameError\u001b[0m: name 'NO3' is not defined"
     ]
    }
   ],
   "source": [
    "import numpy as np\n",
    "import matplotlib.pyplot as plt\n",
    "date = NO3-N_ugL_YRZ\n",
    "\n",
    "fig, ax = plt.subplots(3)\n",
    "ax[0].plot(date)\n",
    "ax[1].plot(date[:,0])\n",
    "ax[2].plot(date[:,1])\n",
    "\n",
    "print(type(date))"
   ]
  },
  {
   "cell_type": "code",
   "execution_count": null,
   "id": "55e72719-7844-471a-9b35-048599c12e1a",
   "metadata": {},
   "outputs": [],
   "source": []
  }
 ],
 "metadata": {
  "kernelspec": {
   "display_name": "Python 3 (ipykernel)",
   "language": "python",
   "name": "python3"
  },
  "language_info": {
   "codemirror_mode": {
    "name": "ipython",
    "version": 3
   },
   "file_extension": ".py",
   "mimetype": "text/x-python",
   "name": "python",
   "nbconvert_exporter": "python",
   "pygments_lexer": "ipython3",
   "version": "3.11.5"
  }
 },
 "nbformat": 4,
 "nbformat_minor": 5
}
