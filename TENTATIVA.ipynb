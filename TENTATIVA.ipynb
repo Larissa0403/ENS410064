{
 "cells": [
  {
   "cell_type": "code",
   "execution_count": 2,
   "id": "bd10e4cc-213f-4b80-94ee-ab5fa9aa194a",
   "metadata": {},
   "outputs": [],
   "source": [
    "import pandas as pd\n",
    "\n",
    "df = pd.read_csv(r'C:\\Users\\lariw\\Documents\\ENS410064\\dados nitrato.csv')"
   ]
  },
  {
   "cell_type": "code",
   "execution_count": 4,
   "id": "cf6c4076-6d85-4fc4-815d-62842e007ab4",
   "metadata": {},
   "outputs": [
    {
     "name": "stdout",
     "output_type": "stream",
     "text": [
      "        date  NO3-N_ugL_YRZ  NO3-N_ugL_YHZ\n",
      "0   2011/9/7         28.818            NaN\n",
      "1   2011/9/8         26.125            NaN\n",
      "2   2011/9/9        282.926            NaN\n",
      "3  2011/9/10        268.334            NaN\n",
      "4  2011/9/11        301.786            NaN\n"
     ]
    }
   ],
   "source": [
    "# Mostrando primeiras linhas das colunas\n",
    "print(df.head())"
   ]
  },
  {
   "cell_type": "code",
   "execution_count": 5,
   "id": "f2156115-9eb8-4957-8ce0-fd252102420b",
   "metadata": {},
   "outputs": [
    {
     "name": "stdout",
     "output_type": "stream",
     "text": [
      "<class 'pandas.core.frame.DataFrame'>\n",
      "RangeIndex: 3038 entries, 0 to 3037\n",
      "Data columns (total 3 columns):\n",
      " #   Column         Non-Null Count  Dtype  \n",
      "---  ------         --------------  -----  \n",
      " 0   date           3038 non-null   object \n",
      " 1   NO3-N_ugL_YRZ  2368 non-null   float64\n",
      " 2   NO3-N_ugL_YHZ  2131 non-null   float64\n",
      "dtypes: float64(2), object(1)\n",
      "memory usage: 71.3+ KB\n",
      "None\n"
     ]
    }
   ],
   "source": [
    "print(df.info())"
   ]
  },
  {
   "cell_type": "code",
   "execution_count": 6,
   "id": "500b918e-1be7-4eec-af4d-3e422f464234",
   "metadata": {},
   "outputs": [
    {
     "name": "stdout",
     "output_type": "stream",
     "text": [
      "       NO3-N_ugL_YRZ  NO3-N_ugL_YHZ\n",
      "count    2368.000000     2131.00000\n",
      "mean      706.226719     2113.26582\n",
      "std       544.534909     1431.33319\n",
      "min         5.355000        0.17600\n",
      "25%       374.077750      808.08750\n",
      "50%       596.708000     1804.22900\n",
      "75%       960.710000     3256.17900\n",
      "max      7630.067000     5862.82000\n"
     ]
    }
   ],
   "source": [
    "print(df.describe())"
   ]
  },
  {
   "cell_type": "code",
   "execution_count": 12,
   "id": "eecb3d71-0e38-4d49-98d8-9cc4784562aa",
   "metadata": {},
   "outputs": [
    {
     "data": {
      "image/png": "[encoded data removed]",
      "text/plain": [
       "<Figure size 640x480 with 1 Axes>"
      ]
     },
     "metadata": {},
     "output_type": "display_data"
    }
   ],
   "source": [
    "import matplotlib.pyplot as plt\n",
    "\n",
    "# Dados\n",
    "date = [0]\n",
    "nitrato = [1]\n",
    "\n",
    "# Criar um gráfico de barras\n",
    "plt.bar(data, nitrato)\n",
    "\n",
    "# Adicionar rótulos aos eixos\n",
    "plt.xlabel(\"date\")\n",
    "plt.ylabel(\"nitrato\")\n",
    "\n",
    "# Título do gráfico\n",
    "plt.title(\"nitrato no tempo\")\n",
    "\n",
    "# Mostrar o gráfico\n",
    "plt.show()"
   ]
  },
  {
   "cell_type": "code",
   "execution_count": 9,
   "id": "42b0d614-3d27-4bad-a13d-4a4256a81b1e",
   "metadata": {},
   "outputs": [],
   "source": [
    "import pandas as pd\n",
    "\n",
    "# Criando um dataframe\n",
    "df = pd.DataFrame()"
   ]
  },
  {
   "cell_type": "code",
   "execution_count": 13,
   "id": "3008652c-6e7e-45ea-b14a-b10fecec7539",
   "metadata": {},
   "outputs": [],
   "source": [
    "# Monstrando um dataframe\n",
    "df['datetime'] = date"
   ]
  },
  {
   "cell_type": "code",
   "execution_count": 16,
   "id": "38d1b216-243b-4256-b799-f306af26c1ba",
   "metadata": {},
   "outputs": [],
   "source": [
    "import numpy as np\n",
    "\n",
    "# Criando uma coluna random dentro do dataframe df\n",
    "df['random'] = np.random.rand(df.shape[0])"
   ]
  },
  {
   "cell_type": "code",
   "execution_count": 17,
   "id": "d26154e2-6e4e-412d-a940-5f3660633641",
   "metadata": {},
   "outputs": [
    {
     "data": {
      "text/plain": [
       "Series([], Name: random, dtype: float64)"
      ]
     },
     "execution_count": 17,
     "metadata": {},
     "output_type": "execute_result"
    }
   ],
   "source": [
    "df['random'][1:10]"
   ]
  },
  {
   "cell_type": "code",
   "execution_count": null,
   "id": "5308ef95-a60f-4612-9b97-8e0eecafc4c2",
   "metadata": {},
   "outputs": [],
   "source": []
  }
 ],
 "metadata": {
  "kernelspec": {
   "display_name": "Python 3 (ipykernel)",
   "language": "python",
   "name": "python3"
  },
  "language_info": {
   "codemirror_mode": {
    "name": "ipython",
    "version": 3
   },
   "file_extension": ".py",
   "mimetype": "text/x-python",
   "name": "python",
   "nbconvert_exporter": "python",
   "pygments_lexer": "ipython3",
   "version": "3.11.5"
  }
 },
 "nbformat": 4,
 "nbformat_minor": 5
}
